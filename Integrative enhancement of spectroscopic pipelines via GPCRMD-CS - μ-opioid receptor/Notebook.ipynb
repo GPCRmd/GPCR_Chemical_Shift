{
 "cells": [
  {
   "cell_type": "markdown",
   "id": "939fdcab",
   "metadata": {},
   "source": [
    "# Guide experimental studies - receptor (in)activation of the uOR "
   ]
  },
  {
   "cell_type": "markdown",
   "id": "9e2a3ded",
   "metadata": {},
   "source": [
    "This notebook provides a step-by-step guide to replicate the analysis outlined in the section, \"Guide experimental studies - receptor (in)activation of the uOR \" Follow along to explore the protocol used to identify atoms with significant differences between active and inactive-like protein structures, using Molecular Dynamics (MD) simulations and Chemical Shift (CS) predictors.\n",
    "\n",
    "### Load modules"
   ]
  },
  {
   "cell_type": "code",
   "execution_count": 1,
   "id": "777b7141",
   "metadata": {},
   "outputs": [
    {
     "data": {
      "application/vnd.jupyter.widget-view+json": {
       "model_id": "c00c86e80cea4564a331a595510ef902",
       "version_major": 2,
       "version_minor": 0
      },
      "text/plain": []
     },
     "metadata": {},
     "output_type": "display_data"
    }
   ],
   "source": [
    "import warnings\n",
    "warnings.filterwarnings('ignore')\n",
    "\n",
    "import numpy as np\n",
    "import pandas as pd\n",
    "import matplotlib.pyplot as plt\n",
    "\n",
    "import MDAnalysis as mda\n",
    "from MDAnalysis.tests.datafiles import PDB_small\n",
    "from MDAnalysis.analysis import rms, align, distances, contacts, dihedrals\n",
    "\n",
    "from scipy import stats\n",
    "\n",
    "import statistics\n",
    "\n",
    "import math\n",
    "\n",
    "import nglview as nv"
   ]
  },
  {
   "cell_type": "markdown",
   "id": "2f9d0b80",
   "metadata": {},
   "source": [
    "### Load Functions"
   ]
  },
  {
   "cell_type": "code",
   "execution_count": 1,
   "id": "af3f0c20",
   "metadata": {},
   "outputs": [],
   "source": [
    "# Create a mapping function to scale p-values using -log10\n",
    "def scale_pvalue(pvalue, min_value):\n",
    "    # Check if the p-value is exactly 0\n",
    "    if pvalue == 0:\n",
    "        # Handle p-value of 0 by returning the negative logarithm of the minimum non-zero p-value\n",
    "        return -math.log10(min_value)\n",
    "    # For non-zero p-values, calculate the negative logarithm\n",
    "    return -math.log10(pvalue)\n",
    "\n",
    "def map_to_range(value, min_value, max_value):\n",
    "    # Ensure the value is within the range [min_value, max_value]\n",
    "    value = max(min(value, max_value), min_value)\n",
    "    \n",
    "    # Calculate the mapped value within the range \n",
    "    mapped_value = max_bfactor * (value - min_value) / (max_value - min_value)\n",
    "    \n",
    "    return round(mapped_value, 2)  # Round to two decimal places\n",
    "\n",
    "%matplotlib inline"
   ]
  },
  {
   "cell_type": "markdown",
   "id": "6ae2570f",
   "metadata": {},
   "source": [
    "### Reading MD Frames and Setting Up Reference Files\n",
    "\n",
    "In this section, we read Molecular Dynamics (MD) frames from the specified PDB and XTC files and set up reference structures for the inactive and active states. These reference structures will be used for comparisons during the analysis to identify key differences between active and inactive conformations of the protein.\n",
    "\n",
    "- **`PDB`**: Path to the protein structure file.\n",
    "- **`XTC`**: Path to the MD trajectory file.\n",
    "- **`ref_inactive`**: Universe object representing the reference structure for the inactive state.\n",
    "- **`ref_active`**: Universe object representing the reference structure for the active state.\n",
    "- **`atom_type`**: Atom to evaluate. Follow the PDB atom type codes.\n",
    "- **`output_pdb_pvalues`**: Path to the protein output structure, where PValues will be reflected as BFactors.\n",
    "- **`output_pdb_diffmeans`**: Path to the protein output structure, where difference in mean CS will be reflected as BFactors.\n",
    "\n",
    "Ensure that the paths to your MD trajectory and reference structure files are correctly specified before running this code."
   ]
  },
  {
   "cell_type": "code",
   "execution_count": 2,
   "id": "a232ade1",
   "metadata": {},
   "outputs": [],
   "source": [
    "# Define File Paths and Load Reference Structures\n",
    "PDB = \"MDs/protein.pdb\"\n",
    "XTC = \"MDs/protein_traj.dcd\"\n",
    "\n",
    "# Load Reference Structures for Inactive and Active States\n",
    "ref_inactive = mda.Universe('ReferenceFrames/reference_inactive_BB.pdb') #Backbone PDB: 4DKL\n",
    "ref_active = mda.Universe('ReferenceFrames/reference_active_BB.pdb')     #Backbone PDB: 5C1M\n",
    "\n",
    "# Atom type to analyze\n",
    "atom_type = 'N'\n",
    "\n",
    "# Max Value for Scaled P-Values as Beta-Factors\n",
    "max_bfactor = 40\n",
    "\n",
    "# Output PDB file with the mapped P-values as Beta-Factors\n",
    "output_pdb_pvalues = 'N_40_pvalue.pdb'\n",
    "output_pdb_diffmeans = 'N_40_diffmean.pdb'"
   ]
  },
  {
   "cell_type": "markdown",
   "id": "4863ee02",
   "metadata": {},
   "source": [
    "### Loading Files and Creating an Average Structure\n",
    "\n",
    "In this section, we load the Molecular Dynamics (MD) trajectory and protein structure files specified by `PDB` and `XTC`. We also create an average structure from the trajectory for later use. Here's a breakdown of the actions:\n",
    "\n",
    "- **`u`**: Universe object representing the MD trajectory and structure.\n",
    "- **`average`**: Calculation of an average structure using the `align.AverageStructure` function. This average structure will be used as a reference.\n",
    "- **`ref`**: Universe object representing the reference structure derived from the average.\n",
    "\n",
    "Additionally, we align the MD trajectory to the reference structure to ensure that subsequent analyses are performed with respect to this reference. The `align.AlignTraj` function is employed for this purpose, aligning the trajectory to the reference structure based on the selection of protein alpha carbon atoms (CA).\n"
   ]
  },
  {
   "cell_type": "code",
   "execution_count": 3,
   "id": "2c84ead4",
   "metadata": {},
   "outputs": [
    {
     "name": "stderr",
     "output_type": "stream",
     "text": [
      "/opt/miniconda3/envs/mdanalysis/lib/python3.10/site-packages/MDAnalysis/analysis/align.py:950: DeprecationWarning: The `universe` attribute was deprecated in MDAnalysis 2.0.0 and will be removed in MDAnalysis 3.0.0. Please use `results.universe` instead.\n",
      "  warnings.warn(wmsg, DeprecationWarning)\n"
     ]
    }
   ],
   "source": [
    "# Create a Universe object 'u' to load the protein structure (PDB) and trajectory (XTC) files.\n",
    "u = mda.Universe(PDB, XTC)\n",
    "\n",
    "# Generate an average structure using the alpha carbon atoms ('name CA') of the protein.\n",
    "# This average structure will serve as a reference for alignment.\n",
    "average = align.AverageStructure(u, u, select='protein and name CA', ref_frame=0).run()\n",
    "\n",
    "# Get the reference universe ('ref') from the generated average structure.\n",
    "ref = average.universe\n",
    "\n",
    "# Align the entire trajectory ('u') to the reference structure ('ref').\n",
    "# This alignment is performed based on the alpha carbon atoms of the protein.\n",
    "# Use in-memory computation for efficiency.\n",
    "aligner = align.AlignTraj(u, ref, select='protein and name CA', in_memory=True).run()"
   ]
  },
  {
   "cell_type": "markdown",
   "id": "3359f80e",
   "metadata": {},
   "source": [
    "### Calculating RMSD for Inactive Conformation\n",
    "\n",
    "In this section, we calculate the Root Mean Square Deviation (RMSD) for the protein's inactive conformation with respect to the reference structure. The following steps are performed:\n",
    "\n",
    "- **`R_inact`**: We initialize an RMSD analysis using MDAnalysis to calculate the RMSD for the specified selection of residues (residues 66-346) and backbone atoms. This analysis is conducted for each frame in the trajectory.\n",
    "\n",
    "- **`df_inact`**: The RMSD values calculated for each frame are stored in a Pandas DataFrame for further analysis. This DataFrame includes information about the frame number, time, RMSD of the backbone, and RMSD of the transmembrane region (TM6).\n",
    "\n",
    "- **`rmsd` and `time`**: We transpose the DataFrame to facilitate plotting, extracting RMSD values and time information for visualization.\n",
    "\n",
    "- Finally, a plot is generated to visualize the RMSD of the inactive conformation over the course of the simulation.\n"
   ]
  },
  {
   "cell_type": "code",
   "execution_count": 4,
   "id": "38daa25b",
   "metadata": {},
   "outputs": [
    {
     "name": "stderr",
     "output_type": "stream",
     "text": [
      "/opt/miniconda3/envs/mdanalysis/lib/python3.10/site-packages/MDAnalysis/analysis/rms.py:718: DeprecationWarning: The `rmsd` attribute was deprecated in MDAnalysis 2.0.0 and will be removed in MDAnalysis 3.0.0. Please use `results.rmsd` instead.\n",
      "  warnings.warn(wmsg, DeprecationWarning)\n",
      "/opt/miniconda3/envs/mdanalysis/lib/python3.10/site-packages/MDAnalysis/analysis/rms.py:718: DeprecationWarning: The `rmsd` attribute was deprecated in MDAnalysis 2.0.0 and will be removed in MDAnalysis 3.0.0. Please use `results.rmsd` instead.\n",
      "  warnings.warn(wmsg, DeprecationWarning)\n"
     ]
    },
    {
     "data": {
      "text/plain": [
       "[<matplotlib.lines.Line2D at 0x1613158a0>]"
      ]
     },
     "execution_count": 4,
     "metadata": {},
     "output_type": "execute_result"
    },
    {
     "data": {
      "image/png": "[encoded data removed]",
      "text/plain": [
       "<Figure size 1000x400 with 1 Axes>"
      ]
     },
     "metadata": {},
     "output_type": "display_data"
    }
   ],
   "source": [
    "# Create an RMSD analysis object 'R_inact' to calculate RMSD values.\n",
    "# The analysis is performed on the specified residues (resid 66 to 258 and 273 to 346) and backbone atoms.\n",
    "# Additional group selections are applied to isolate the transmembrane region (TM6).\n",
    "R_inact = mda.analysis.rms.RMSD(u, ref_inactive,\n",
    "                                       select='resid 66 67 68 69 70 71 72 73 74 75 76 77 78 79 80 81 82 83 84 85 86 87 88 89 90 91 92 93 94 95 102 103 104 105 106 107 108 109 110 111 112 113 114 115 116 117 118 119 120 121 122 123 124 125 126 127 128 129 138 139 140 141 142 143 144 145 146 147 148 149 150 151 152 153 154 155 156 157 158 159 160 161 162 163 164 165 166 167 168 169 170 175 176 177 178 183 184 185 186 187 188 189 190 191 192 193 194 195 196 197 198 199 200 201 202 203 228 229 230 231 232 233 234 235 236 237 238 238 239 240 241 242 243 244 245 246 247 248 249 250 251 252 253 254 255 256 257 258 258 273 274 275 276 277 278 279 280 281 282 283 284 285 286 287 288 289 290 291 292 293 294 295 296 297 298 299 300 301 302 303 304 305 312 313 314 315 316 317 318 319 320 321 322 323 324 325 326 327 327 328 329 330 331 332 333 334 335 336 337 338 339 341 342 343 344 345 346 and backbone',\n",
    "                                       groupselections=[\"backbone and (resid 273 to 305)\",])\n",
    "R_inact.run()\n",
    "\n",
    "# Create a Pandas DataFrame 'df_inact' to store the RMSD data.\n",
    "df_inact = pd.DataFrame(R_inact.rmsd, columns=['Frame', 'Time', 'Backbone', 'TM6'])\n",
    "\n",
    "# Transpose the RMSD data for easier plotting.\n",
    "rmsd = R_inact.rmsd.T\n",
    "time = rmsd[0]\n",
    "\n",
    "# Create a figure for visualization.\n",
    "fig = plt.figure(figsize=(10, 4))\n",
    "\n",
    "# Customize plot labels and attributes.\n",
    "plt.ylabel('RMSD (Å)')\n",
    "plt.xlabel('Frames')\n",
    "\n",
    "# Plot RMSD values for the transmembrane region (TM6) over time.\n",
    "plt.plot(time, rmsd[2])"
   ]
  },
  {
   "cell_type": "markdown",
   "id": "580f8cb5",
   "metadata": {},
   "source": [
    "### Calculating RMSD for Active Conformation\n",
    "\n",
    "In this section, we calculate the Root Mean Square Deviation (RMSD) for the protein's active conformation with respect to the reference structure. The following steps are performed:\n",
    "\n",
    "- **`R_act`**: We initialize an RMSD analysis using MDAnalysis to calculate the RMSD for the specified selection of residues (residues 66-346) and backbone atoms. This analysis is conducted for each frame in the trajectory.\n",
    "\n",
    "- **`df_act`**: The RMSD values calculated for each frame are stored in a Pandas DataFrame for further analysis. This DataFrame includes information about the frame number, time, RMSD of the backbone, and RMSD of the transmembrane region (TM6).\n",
    "\n",
    "- **`rmsd` and `time`**: We transpose the DataFrame to facilitate plotting, extracting RMSD values and time information for visualization.\n",
    "\n",
    "- Finally, a plot is generated to visualize the RMSD of the inactive conformation over the course of the simulation."
   ]
  },
  {
   "cell_type": "code",
   "execution_count": 5,
   "id": "02195261",
   "metadata": {},
   "outputs": [
    {
     "name": "stderr",
     "output_type": "stream",
     "text": [
      "/opt/miniconda3/envs/mdanalysis/lib/python3.10/site-packages/MDAnalysis/analysis/rms.py:718: DeprecationWarning: The `rmsd` attribute was deprecated in MDAnalysis 2.0.0 and will be removed in MDAnalysis 3.0.0. Please use `results.rmsd` instead.\n",
      "  warnings.warn(wmsg, DeprecationWarning)\n"
     ]
    },
    {
     "data": {
      "text/plain": [
       "[<matplotlib.lines.Line2D at 0x16144ceb0>]"
      ]
     },
     "execution_count": 5,
     "metadata": {},
     "output_type": "execute_result"
    },
    {
     "data": {
      "image/png": "[encoded data removed]",
      "text/plain": [
       "<Figure size 1000x400 with 1 Axes>"
      ]
     },
     "metadata": {},
     "output_type": "display_data"
    }
   ],
   "source": [
    "# Create an RMSD analysis object 'R_act' to calculate RMSD values.\n",
    "# The analysis is performed on the specified residues (resid 66 to 258 and 273 to 346) and backbone atoms.\n",
    "# Additional group selections are applied to isolate the transmembrane region (TM6).\n",
    "R_act = mda.analysis.rms.RMSD(u, ref_active,\n",
    "                                      select='resid 66 67 68 69 70 71 72 73 74 75 76 77 78 79 80 81 82 83 84 85 86 87 88 89 90 91 92 93 94 95 102 103 104 105 106 107 108 109 110 111 112 113 114 115 116 117 118 119 120 121 122 123 124 125 126 127 128 129 137 138 139 140 141 142 143 144 145 146 147 148 149 150 151 152 153 154 155 156 157 158 159 160 161 162 163 164 165 166 167 168 169 170 175 176 177 178 183 184 185 186 187 188 189 190 191 192 193 194 195 196 197 198 199 200 201 202 203 228 229 230 231 232 233 234 235 236 237 239 240 241 242 243 244 245 246 247 248 249 250 251 252 253 254 255 256 274 275 276 277 278 279 280 281 282 283 284 285 286 287 288 289 290 291 292 293 294 295 296 297 298 299 300 301 302 303 304 305 312 313 314 315 316 317 318 319 320 321 322 323 324 325 326 and backbone',\n",
    "                                      groupselections=[\"backbone and (resid 273 to 305)\",])\n",
    "R_act.run()\n",
    "\n",
    "# Create a Pandas DataFrame 'df_act' to store the RMSD data.\n",
    "df_act = pd.DataFrame(R_act.rmsd, columns=['Frame', 'Time', 'Backbone', 'TM6'])\n",
    "\n",
    "# Transpose the RMSD data for easier plotting.\n",
    "rmsd = R_act.rmsd.T\n",
    "time = rmsd[0]\n",
    "\n",
    "# Create a figure for visualization.\n",
    "fig = plt.figure(figsize=(10, 4))\n",
    "\n",
    "# Customize plot labels and attributes.\n",
    "plt.ylabel('RMSD (Å)')\n",
    "plt.xlabel('Frames')\n",
    "\n",
    "# Plot RMSD values for the transmembrane region (TM6) over time.\n",
    "plt.plot(time, rmsd[2])"
   ]
  },
  {
   "cell_type": "markdown",
   "id": "d740d224",
   "metadata": {},
   "source": [
    "### Comparing Chemical Shift Dynamics\n",
    "\n",
    "In this section, we compare the chemical shift dynamics of selected residues in the protein's active and inactive conformations. Here's a breakdown of the actions:\n",
    "\n",
    "- **`cut_off`**: We set a cutoff value for the Root Mean Square Deviation (RMSD), which defines a threshold for selecting frames that are considered similar to the reference structure.\n",
    "\n",
    "- **`active_frames` and `inactive_frames`**: We initialize lists to store frame indices that meet the cutoff criteria for the active and inactive conformations, respectively.\n",
    "\n",
    "- **Active Frames Selection**: We iterate through the DataFrame `df_act` containing RMSD data for the active conformation. Frames with a backbone RMSD less than or equal to the defined cutoff are added to the `active_frames` list.\n",
    "\n",
    "- **Inactive Frames Selection**: Similarly, we iterate through the DataFrame `df_inact` for the inactive conformation, adding frames meeting the cutoff criteria to the `inactive_frames` list.\n",
    "\n",
    "- **Frame Intersection Check**: We check if there is an intersection between the active and inactive frames. If there is no intersection (i.e., frames are distinct between active and inactive), we proceed with further analysis.\n",
    "\n",
    "- **Comparison Dictionary**: We create a dictionary named `compare_dict` to store chemical shift data for selected residues. We read data from a CSV file ('cs_dyn199_11888.csv') and extract chemical shift values for residues in both active and inactive frames. This file can be found in the CS section of the [PDB 5C1M from GPCRMD](https://www.gpcrmd.org/view/199/)\n",
    "\n",
    "This section enables us to compare chemical shift dynamics between active and inactive conformations for specific residues of interest."
   ]
  },
  {
   "cell_type": "code",
   "execution_count": 6,
   "id": "9c8948a8",
   "metadata": {},
   "outputs": [],
   "source": [
    "# Set a cutoff value for identifying significant changes in chemical shifts.\n",
    "cut_off = 1.5\n",
    "\n",
    "# Initialize lists to store frame indices that meet the cutoff criteria.\n",
    "active_frames = []\n",
    "inactive_frames = []\n",
    "\n",
    "# Iterate through the DataFrame 'df_act' for active conformation.\n",
    "for index, row in df_act.iterrows():\n",
    "    # Check if the RMSD of the backbone is less than or equal to the cutoff.\n",
    "    if float(row['Backbone']) <= cut_off:\n",
    "        active_frames.append(int(row['Frame']))\n",
    "\n",
    "# Iterate through the DataFrame 'df_inact' for inactive conformation.\n",
    "for index, row in df_inact.iterrows():\n",
    "    # Check if the RMSD of the backbone is less than or equal to the cutoff.\n",
    "    if float(row['Backbone']) <= cut_off:\n",
    "        inactive_frames.append(int(row['Frame']))\n",
    "\n",
    "# Check if there is no intersection between active and inactive frames.\n",
    "if not set(active_frames) & set(inactive_frames):\n",
    "    pass\n",
    "\n",
    "# Initialize a dictionary to store chemical shift data for selected residues.\n",
    "compare_dict = {}\n",
    "\n",
    "# Read data from the CSV file 'cs_dyn199_11888.csv'.\n",
    "with open('MDs/cs_dyn199_11888.csv') as f:\n",
    "    lines = [line.rstrip() for line in f]\n",
    "    for line in lines:\n",
    "        if not line.startswith('resSeq'):\n",
    "            line_col = line.split(';')\n",
    "            # Check if the atom is nitrogen ('N').\n",
    "            if line_col[1] == atom_type:\n",
    "                new_actives = []\n",
    "                new_inactives = []\n",
    "                for active in active_frames:\n",
    "                    new_actives.append(float(line_col[active + 4]))\n",
    "                for inactive in inactive_frames:\n",
    "                    new_inactives.append(float(line_col[inactive + 4]))\n",
    "                # Store the data in the compare_dict with a unique key.\n",
    "                compare_dict[line_col[2] + '_' + line_col[0]] = [new_actives, new_inactives]\n"
   ]
  },
  {
   "cell_type": "markdown",
   "id": "b795440a",
   "metadata": {},
   "source": [
    "### Statistical Analysis of P-Values for Chemical Shift Differences\n",
    "\n",
    "In this section, we perform a statistical analysis to evaluate the significance of chemical shift differences between active and inactive conformations of the protein. The following key steps are undertaken:\n",
    "\n",
    "1. **P-Value Calculation**: We initialize a dictionary named `pvalue_dict` to store the p-values obtained from two-sample independent t-tests for each chemical shift observation between active and inactive states. The `stats.ttest_ind` function is employed, with the `equal_var` parameter set to `False` to account for potentially unequal variances between the samples.\n",
    "\n",
    "This analysis provides insights into the statistical significance of differences in chemical shift values between active and inactive conformations, aiding in the identification of noteworthy variations in chemical environments."
   ]
  },
  {
   "cell_type": "code",
   "execution_count": 7,
   "id": "8cdc9811",
   "metadata": {},
   "outputs": [],
   "source": [
    "# Initialize a dictionary to store p-values from the t-test.\n",
    "pvalue_dict = {}\n",
    "\n",
    "# Find the minimum p-value different from 0\n",
    "min_pvalue = min(p for p in compare_dict.values() if p != 0)\n",
    "\n",
    "# Iterate through 'compare_dict' containing chemical shift data.\n",
    "for key, value in compare_dict.items():\n",
    "    # Calculate the two-sample independent t-test statistics and p-value.\n",
    "    # Set 'equal_var' to 'False' to account for unequal variances.\n",
    "    Stat, Pval = stats.ttest_ind(value[0], value[1], equal_var=False)\n",
    "    \n",
    "    # Store the p-value in 'pvalue_dict' with the corresponding key.\n",
    "    pvalue_dict[key] = Pval"
   ]
  },
  {
   "cell_type": "markdown",
   "id": "4951dfb3",
   "metadata": {},
   "source": [
    "2. **Scaling P-Values**: We create a scaling function called `scale_pvalue` that transforms p-values using the negative logarithm (base 10). In instances where the p-value is 0, we treat it as the negative logarithm of the minimum non-zero p-value."
   ]
  },
  {
   "cell_type": "code",
   "execution_count": 8,
   "id": "42497509",
   "metadata": {},
   "outputs": [],
   "source": [
    "pvalue_scaled_dict = {}\n",
    "\n",
    "# Find the minimum p-value different from 0\n",
    "min_pvalue = min(p for p in pvalue_dict.values() if p != 0)\n",
    "\n",
    "for key, value in pvalue_dict.items():\n",
    "    # Store the p-value in 'pvalue_dict' with the corresponding key.\n",
    "    pvalue_scaled_dict[key] = round(scale_pvalue(value,min_pvalue),2)"
   ]
  },
  {
   "cell_type": "markdown",
   "id": "b75278ef",
   "metadata": {},
   "source": [
    "3. **Mapping P-Values to an specific range**: We create a scaling function called `map_to_range` that scales linearly the Pvalues obtianed in the cell before aiming to obtain a range between 2 numbers. This helps when exporting these values as B-factor term of the PDB file.\n",
    "\n",
    "4. **Ranking and Printing**: We rank and print the mapped/scaled p-values for further analysis. The top 20 sorted p-values are displayed, including their ranks, associated keys, and mapped/scaled p-values."
   ]
  },
  {
   "cell_type": "code",
   "execution_count": 9,
   "id": "d92cfe61",
   "metadata": {},
   "outputs": [
    {
     "name": "stdout",
     "output_type": "stream",
     "text": [
      "Rank 1: Key: LEU_335, Mapped Value: 40.0\n",
      "Rank 2: Key: TYR_336, Mapped Value: 40.0\n",
      "Rank 3: Key: VAL_285, Mapped Value: 37.05\n",
      "Rank 4: Key: LYS_344, Mapped Value: 25.5\n",
      "Rank 5: Key: ILE_306, Mapped Value: 24.21\n",
      "Rank 6: Key: LEU_331, Mapped Value: 21.68\n",
      "Rank 7: Key: ASN_342, Mapped Value: 19.26\n",
      "Rank 8: Key: ILE_278, Mapped Value: 18.67\n",
      "Rank 9: Key: ASP_340, Mapped Value: 18.6\n",
      "Rank 10: Key: LEU_324, Mapped Value: 13.95\n",
      "Rank 11: Key: GLU_341, Mapped Value: 13.87\n",
      "Rank 12: Key: ALA_337, Mapped Value: 11.77\n",
      "Rank 13: Key: TYR_326, Mapped Value: 11.58\n",
      "Rank 14: Key: THR_307, Mapped Value: 11.46\n",
      "Rank 15: Key: GLU_270, Mapped Value: 11.19\n",
      "Rank 16: Key: THR_103, Mapped Value: 10.74\n",
      "Rank 17: Key: ARG_348, Mapped Value: 10.42\n",
      "Rank 18: Key: LEU_110, Mapped Value: 9.61\n",
      "Rank 19: Key: ARG_258, Mapped Value: 9.17\n",
      "Rank 20: Key: LYS_260, Mapped Value: 8.93\n"
     ]
    }
   ],
   "source": [
    "# Find the minimum and maximum scaled values\n",
    "min_scaled_value = min(pvalue_scaled_dict.values())\n",
    "max_scaled_value = max(pvalue_scaled_dict.values())\n",
    "\n",
    "# Initialize a dictionary to store mapped values\n",
    "mapped_values_dict = {}\n",
    "\n",
    "# Map the scaled values to the range [0, 9] and store them in 'mapped_values_dict'\n",
    "for key, scaled_value in pvalue_scaled_dict.items():\n",
    "    mapped_value = map_to_range(scaled_value, min_scaled_value, max_scaled_value)\n",
    "    mapped_values_dict[key] = mapped_value\n",
    "\n",
    "# Sort the mapped values dictionary by mapped value\n",
    "sorted_mapped_values = sorted(mapped_values_dict.items(), key=lambda x: x[1], reverse=True)\n",
    "\n",
    "# Select the first 20 sorted items\n",
    "top_20_mapped_values = sorted_mapped_values[:20]\n",
    "\n",
    "# Print the first 20 mapped values\n",
    "for i, (key, mapped_value) in enumerate(top_20_mapped_values, start=1):\n",
    "    print(f\"Rank {i}: Key: {key}, Mapped Value: {mapped_value}\")"
   ]
  },
  {
   "cell_type": "markdown",
   "id": "b602aeec",
   "metadata": {},
   "source": [
    "### Converting Scaled P-Values to B-Factors in PDB Format\n",
    "\n",
    "In this section, we transform the scaled p-values obtained from the previous analysis into B-factors suitable for inclusion in a PDB (Protein Data Bank) file. The following steps are performed:\n",
    "\n",
    "1. **Scaling Factor**: We define a scaling factor of 10 to ensure that the B-factors have two decimal places. This scaling factor is applied to the scaled p-values.\n",
    "\n",
    "2. **Visualizing as B-Factors**: We open the target PDB file (`protein.pdb`) and read its contents line by line. For lines that start with 'ATOM,' we identify the corresponding residue and atom identifier and check if a scaled p-value exists for it in the `mean_dict`.\n",
    "\n",
    "3. **Formatting B-Factors**: If a scaled p-value is found, we convert it to a B-factor by multiplying it with the scaling factor. We then format the B-factor value with two decimal places.\n",
    "\n",
    "4. **Replacing B-Factors**: We replace the B-factor field in the PDB line with the formatted B-factor value while preserving other information in the line.\n",
    "\n",
    "5. **Preserving File Structure**: Non-ATOM lines in the PDB file (e.g., header and connectivity information) are copied as is to maintain the overall PDB file structure.\n",
    "\n",
    "This process allows for the visualization of scaled p-values as B-factors within a PDB file, facilitating further analysis and interpretation."
   ]
  },
  {
   "cell_type": "code",
   "execution_count": 12,
   "id": "c7df5c52",
   "metadata": {},
   "outputs": [
    {
     "data": {
      "application/vnd.jupyter.widget-view+json": {
       "model_id": "19a264ab39394033985588d2f3a6dd90",
       "version_major": 2,
       "version_minor": 0
      },
      "text/plain": [
       "NGLWidget()"
      ]
     },
     "metadata": {},
     "output_type": "display_data"
    }
   ],
   "source": [
    "# VISUALIZING RMSF AS B-FACTORS\n",
    "out_pdb = open(output_pdb_pvalues, 'w')\n",
    "with open(PDB) as f:\n",
    "    lines = [line.rstrip() for line in f]\n",
    "    for line in lines:\n",
    "        if line.startswith('ATOM'):\n",
    "            column = line.split()\n",
    "            if column[3] + '_' + column[5] in mapped_values_dict:\n",
    "                scaled_pvalue = mapped_values_dict[column[3] + '_' + column[5]]\n",
    "                # Format the scaled p-value with two decimal places\n",
    "                b_factor = f\"{scaled_pvalue:.2f}\"\n",
    "                # Replace the B-factor field in the PDB line\n",
    "                new_text = line[:60] + b_factor + line[66:]\n",
    "                print(new_text, file=out_pdb)\n",
    "        else:\n",
    "            # Copy non-ATOM lines as is\n",
    "            print(line, file=out_pdb)\n",
    "            \n",
    "# Visualize the protein with NGLView and color according to B-factors\n",
    "protein = mda.Universe(output_pdb_pvalues)\n",
    "view = nv.show_mdanalysis(protein)\n",
    "view.clear()\n",
    "# Add spacefill representation only for CA atoms colored by B-factor\n",
    "view.add_spacefill(selection='.'+atom_type, color_scheme='bfactor')\n",
    "view.add_cartoon(selection='protein',color='white')\n",
    "view"
   ]
  },
  {
   "cell_type": "markdown",
   "id": "f620ad16",
   "metadata": {},
   "source": [
    "### Converting Differences in Means to B-Factors in PDB Format\n",
    "\n",
    "In this section, we map the differences in mean obtained from the analysis into B-factors suitable for inclusion in a PDB (Protein Data Bank) file. The following steps are performed:\n",
    "\n",
    "\n",
    "1. **Visualizing as B-Factors**: We open the target PDB file (`protein.pdb`) and read its contents line by line. For lines that start with 'ATOM,' we identify the corresponding residue and atom identifier and check if a difference in means exists for it in the `difference_dict`.\n",
    "\n",
    "2. **Replacing B-Factors**: We replace the B-factor field in the PDB line with the formatted B-factor value while preserving other information in the line.\n",
    "\n",
    "3. **Preserving File Structure**: Non-ATOM lines in the PDB file (e.g., header and connectivity information) are copied as is to maintain the overall PDB file structure.\n"
   ]
  },
  {
   "cell_type": "code",
   "execution_count": 13,
   "id": "4c12a61d",
   "metadata": {},
   "outputs": [
    {
     "data": {
      "application/vnd.jupyter.widget-view+json": {
       "model_id": "fbe2452b83fb4e6cbe386879174cece5",
       "version_major": 2,
       "version_minor": 0
      },
      "text/plain": [
       "NGLWidget()"
      ]
     },
     "metadata": {},
     "output_type": "display_data"
    }
   ],
   "source": [
    "# Compute the mean for active and inactive conformations and then the difference in means.\n",
    "difference_dict = {}\n",
    "for key, value in compare_dict.items():\n",
    "    active_mean = np.mean(value[0])\n",
    "    inactive_mean = np.mean(value[1])\n",
    "    difference_dict[key] = round(abs(inactive_mean - active_mean),2)\n",
    "\n",
    "# VISUALIZING RMSF AS B-FACTORS\n",
    "out_pdb = open(output_pdb_diffmeans, 'w')\n",
    "with open(PDB) as f:\n",
    "    lines = [line.rstrip() for line in f]\n",
    "    for line in lines:\n",
    "        if line.startswith('ATOM'):\n",
    "            column = line.split()\n",
    "            if column[3] + '_' + column[5] in difference_dict:\n",
    "                scaled_pvalue = difference_dict[column[3] + '_' + column[5]]\n",
    "                # Format the scaled p-value with two decimal places\n",
    "                b_factor = f\"{scaled_pvalue:.2f}\"\n",
    "                # Replace the B-factor field in the PDB line\n",
    "                new_text = line[:60] + b_factor + line[66:]\n",
    "                print(new_text, file=out_pdb)\n",
    "        else:\n",
    "            # Copy non-ATOM lines as is\n",
    "            print(line, file=out_pdb)\n",
    "            \n",
    "# Visualize the protein with NGLView and color according to B-factors\n",
    "protein = mda.Universe(output_pdb_diffmeans)\n",
    "view = nv.show_mdanalysis(protein)\n",
    "view.clear()\n",
    "# Add spacefill representation only for CA atoms colored by B-factor\n",
    "view.add_spacefill(selection='.'+atom_type, color_scheme='bfactor')\n",
    "view.add_cartoon(selection='protein',color='white')\n",
    "view"
   ]
  },
  {
   "cell_type": "code",
   "execution_count": null,
   "id": "e648cf9c",
   "metadata": {},
   "outputs": [],
   "source": []
  }
 ],
 "metadata": {
  "kernelspec": {
   "display_name": "Python 3 (ipykernel)",
   "language": "python",
   "name": "python3"
  },
  "language_info": {
   "codemirror_mode": {
    "name": "ipython",
    "version": 3
   },
   "file_extension": ".py",
   "mimetype": "text/x-python",
   "name": "python",
   "nbconvert_exporter": "python",
   "pygments_lexer": "ipython3",
   "version": "3.10.8"
  }
 },
 "nbformat": 4,
 "nbformat_minor": 5
}
